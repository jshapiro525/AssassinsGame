{
 "cells": [
  {
   "cell_type": "markdown",
   "id": "7126e0a7",
   "metadata": {},
   "source": [
    "# Discover Your Target"
   ]
  },
  {
   "cell_type": "code",
   "execution_count": null,
   "id": "ecbd8fa2",
   "metadata": {
    "tags": [
     "remove-cell"
    ]
   },
   "outputs": [],
   "source": [
    "using Random;\n",
    "names = [\"Andrew\",\"Ben\",\"Emily\",\"Gabe\",\"Hannah\",\"Hope\",\"Isabel\",\"Jacob H\",\"Jacob S\",\"Jeremy\",\"Jesse\",\"Josh\",\"Julian\",\"Mandy\",\"Miranda\",\"Olivia\"];\n",
    "neworder = shuffle(names);"
   ]
  },
  {
   "cell_type": "markdown",
   "id": "a84c807a",
   "metadata": {},
   "source": [
    "From the following list, please enter your name in the field below:\n",
    "\n",
    " Andrew\\\n",
    " Ben\\\n",
    " Emily\\\n",
    " Gabe\\\n",
    " Hannah\\\n",
    " Hope\\\n",
    " Isabel\\\n",
    " Jacob H\\\n",
    " Jacob S\\\n",
    " Jeremy\\\n",
    " Jesse\\\n",
    " Josh\\\n",
    " Julian\\\n",
    " Mandy\\\n",
    " Miranda\\\n",
    " Olivia"
   ]
  },
  {
   "cell_type": "code",
   "execution_count": null,
   "id": "10c6d04d",
   "metadata": {
    "tags": [
     "hide-input"
    ]
   },
   "outputs": [],
   "source": [
    "user = readline();\n",
    "while !(user in names)\n",
    "    println(\"Sorry, \", user,\" is not in the database. Please enter a name from the list above.\")\n",
    "    user = readline()\n",
    "end\n",
    "\n",
    "i=1;\n",
    "while isequal(neworder[i],user) == false\n",
    "    i = i+1;\n",
    "end\n",
    "if i == 16\n",
    "    println(user,\", your target is \", neworder[1], \".\")\n",
    "else\n",
    "    println(user,\", your target is \", neworder[i+1], \".\")\n",
    "end"
   ]
  }
 ],
 "metadata": {
  "celltoolbar": "Tags",
  "kernelspec": {
   "display_name": "Julia 1.9.2",
   "language": "julia",
   "name": "julia-1.9"
  },
  "language_info": {
   "file_extension": ".jl",
   "mimetype": "application/julia",
   "name": "julia",
   "version": "1.9.2"
  }
 },
 "nbformat": 4,
 "nbformat_minor": 5
}
